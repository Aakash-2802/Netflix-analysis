{
 "cells": [
  {
   "cell_type": "markdown",
   "metadata": {},
   "source": [
    "Import Liabraries"
   ]
  },
  {
   "cell_type": "code",
   "execution_count": 54,
   "metadata": {},
   "outputs": [],
   "source": [
    "import numpy as np\n",
    "import pandas as pd\n",
    "import matplotlib.pyplot as plt\n",
    "import seaborn as sns\n",
    "import matplotlib\n",
    "%matplotlib inline\n",
    "import matplotlib.cm as cm"
   ]
  },
  {
   "cell_type": "markdown",
   "metadata": {},
   "source": [
    "Data upload "
   ]
  },
  {
   "cell_type": "code",
   "execution_count": 55,
   "metadata": {},
   "outputs": [],
   "source": [
    "df=pd.read_csv(\"C:\\\\Users\\\\Lenovo\\\\OneDrive\\\\Desktop\\\\Ducat\\\\netflix_titles.csv\")"
   ]
  },
  {
   "cell_type": "markdown",
   "metadata": {},
   "source": [
    "Understanding the shape and structure of the dataset\n",
    "    1.Total Number of element\n",
    "    2.Column Names\n",
    "    3.General Value and Missing Value"
   ]
  },
  {
   "cell_type": "code",
   "execution_count": 56,
   "metadata": {},
   "outputs": [
    {
     "data": {
      "text/html": [
       "<div>\n",
       "<style scoped>\n",
       "    .dataframe tbody tr th:only-of-type {\n",
       "        vertical-align: middle;\n",
       "    }\n",
       "\n",
       "    .dataframe tbody tr th {\n",
       "        vertical-align: top;\n",
       "    }\n",
       "\n",
       "    .dataframe thead th {\n",
       "        text-align: right;\n",
       "    }\n",
       "</style>\n",
       "<table border=\"1\" class=\"dataframe\">\n",
       "  <thead>\n",
       "    <tr style=\"text-align: right;\">\n",
       "      <th></th>\n",
       "      <th>show_id</th>\n",
       "      <th>type</th>\n",
       "      <th>title</th>\n",
       "      <th>director</th>\n",
       "      <th>cast</th>\n",
       "      <th>country</th>\n",
       "      <th>date_added</th>\n",
       "      <th>release_year</th>\n",
       "      <th>rating</th>\n",
       "      <th>duration</th>\n",
       "      <th>listed_in</th>\n",
       "      <th>description</th>\n",
       "    </tr>\n",
       "  </thead>\n",
       "  <tbody>\n",
       "    <tr>\n",
       "      <th>0</th>\n",
       "      <td>s1</td>\n",
       "      <td>Movie</td>\n",
       "      <td>Dick Johnson Is Dead</td>\n",
       "      <td>Kirsten Johnson</td>\n",
       "      <td>NaN</td>\n",
       "      <td>United States</td>\n",
       "      <td>September 25, 2021</td>\n",
       "      <td>2020</td>\n",
       "      <td>PG-13</td>\n",
       "      <td>90 min</td>\n",
       "      <td>Documentaries</td>\n",
       "      <td>As her father nears the end of his life, filmm...</td>\n",
       "    </tr>\n",
       "    <tr>\n",
       "      <th>1</th>\n",
       "      <td>s2</td>\n",
       "      <td>TV Show</td>\n",
       "      <td>Blood &amp; Water</td>\n",
       "      <td>NaN</td>\n",
       "      <td>Ama Qamata, Khosi Ngema, Gail Mabalane, Thaban...</td>\n",
       "      <td>South Africa</td>\n",
       "      <td>September 24, 2021</td>\n",
       "      <td>2021</td>\n",
       "      <td>TV-MA</td>\n",
       "      <td>2 Seasons</td>\n",
       "      <td>International TV Shows, TV Dramas, TV Mysteries</td>\n",
       "      <td>After crossing paths at a party, a Cape Town t...</td>\n",
       "    </tr>\n",
       "    <tr>\n",
       "      <th>2</th>\n",
       "      <td>s3</td>\n",
       "      <td>TV Show</td>\n",
       "      <td>Ganglands</td>\n",
       "      <td>Julien Leclercq</td>\n",
       "      <td>Sami Bouajila, Tracy Gotoas, Samuel Jouy, Nabi...</td>\n",
       "      <td>NaN</td>\n",
       "      <td>September 24, 2021</td>\n",
       "      <td>2021</td>\n",
       "      <td>TV-MA</td>\n",
       "      <td>1 Season</td>\n",
       "      <td>Crime TV Shows, International TV Shows, TV Act...</td>\n",
       "      <td>To protect his family from a powerful drug lor...</td>\n",
       "    </tr>\n",
       "    <tr>\n",
       "      <th>3</th>\n",
       "      <td>s4</td>\n",
       "      <td>TV Show</td>\n",
       "      <td>Jailbirds New Orleans</td>\n",
       "      <td>NaN</td>\n",
       "      <td>NaN</td>\n",
       "      <td>NaN</td>\n",
       "      <td>September 24, 2021</td>\n",
       "      <td>2021</td>\n",
       "      <td>TV-MA</td>\n",
       "      <td>1 Season</td>\n",
       "      <td>Docuseries, Reality TV</td>\n",
       "      <td>Feuds, flirtations and toilet talk go down amo...</td>\n",
       "    </tr>\n",
       "    <tr>\n",
       "      <th>4</th>\n",
       "      <td>s5</td>\n",
       "      <td>TV Show</td>\n",
       "      <td>Kota Factory</td>\n",
       "      <td>NaN</td>\n",
       "      <td>Mayur More, Jitendra Kumar, Ranjan Raj, Alam K...</td>\n",
       "      <td>India</td>\n",
       "      <td>September 24, 2021</td>\n",
       "      <td>2021</td>\n",
       "      <td>TV-MA</td>\n",
       "      <td>2 Seasons</td>\n",
       "      <td>International TV Shows, Romantic TV Shows, TV ...</td>\n",
       "      <td>In a city of coaching centers known to train I...</td>\n",
       "    </tr>\n",
       "  </tbody>\n",
       "</table>\n",
       "</div>"
      ],
      "text/plain": [
       "  show_id     type                  title         director  \\\n",
       "0      s1    Movie   Dick Johnson Is Dead  Kirsten Johnson   \n",
       "1      s2  TV Show          Blood & Water              NaN   \n",
       "2      s3  TV Show              Ganglands  Julien Leclercq   \n",
       "3      s4  TV Show  Jailbirds New Orleans              NaN   \n",
       "4      s5  TV Show           Kota Factory              NaN   \n",
       "\n",
       "                                                cast        country  \\\n",
       "0                                                NaN  United States   \n",
       "1  Ama Qamata, Khosi Ngema, Gail Mabalane, Thaban...   South Africa   \n",
       "2  Sami Bouajila, Tracy Gotoas, Samuel Jouy, Nabi...            NaN   \n",
       "3                                                NaN            NaN   \n",
       "4  Mayur More, Jitendra Kumar, Ranjan Raj, Alam K...          India   \n",
       "\n",
       "           date_added  release_year rating   duration  \\\n",
       "0  September 25, 2021          2020  PG-13     90 min   \n",
       "1  September 24, 2021          2021  TV-MA  2 Seasons   \n",
       "2  September 24, 2021          2021  TV-MA   1 Season   \n",
       "3  September 24, 2021          2021  TV-MA   1 Season   \n",
       "4  September 24, 2021          2021  TV-MA  2 Seasons   \n",
       "\n",
       "                                           listed_in  \\\n",
       "0                                      Documentaries   \n",
       "1    International TV Shows, TV Dramas, TV Mysteries   \n",
       "2  Crime TV Shows, International TV Shows, TV Act...   \n",
       "3                             Docuseries, Reality TV   \n",
       "4  International TV Shows, Romantic TV Shows, TV ...   \n",
       "\n",
       "                                         description  \n",
       "0  As her father nears the end of his life, filmm...  \n",
       "1  After crossing paths at a party, a Cape Town t...  \n",
       "2  To protect his family from a powerful drug lor...  \n",
       "3  Feuds, flirtations and toilet talk go down amo...  \n",
       "4  In a city of coaching centers known to train I...  "
      ]
     },
     "execution_count": 56,
     "metadata": {},
     "output_type": "execute_result"
    }
   ],
   "source": [
    "df.head()"
   ]
  },
  {
   "cell_type": "code",
   "execution_count": 57,
   "metadata": {},
   "outputs": [
    {
     "data": {
      "text/plain": [
       "105684"
      ]
     },
     "execution_count": 57,
     "metadata": {},
     "output_type": "execute_result"
    }
   ],
   "source": [
    "df.size"
   ]
  },
  {
   "cell_type": "code",
   "execution_count": 58,
   "metadata": {},
   "outputs": [
    {
     "data": {
      "text/plain": [
       "Index(['show_id', 'type', 'title', 'director', 'cast', 'country', 'date_added',\n",
       "       'release_year', 'rating', 'duration', 'listed_in', 'description'],\n",
       "      dtype='object')"
      ]
     },
     "execution_count": 58,
     "metadata": {},
     "output_type": "execute_result"
    }
   ],
   "source": [
    "df.columns"
   ]
  },
  {
   "cell_type": "code",
   "execution_count": 59,
   "metadata": {},
   "outputs": [
    {
     "name": "stdout",
     "output_type": "stream",
     "text": [
      "<class 'pandas.core.frame.DataFrame'>\n",
      "RangeIndex: 8807 entries, 0 to 8806\n",
      "Data columns (total 12 columns):\n",
      " #   Column        Non-Null Count  Dtype \n",
      "---  ------        --------------  ----- \n",
      " 0   show_id       8807 non-null   object\n",
      " 1   type          8807 non-null   object\n",
      " 2   title         8807 non-null   object\n",
      " 3   director      6173 non-null   object\n",
      " 4   cast          7982 non-null   object\n",
      " 5   country       7976 non-null   object\n",
      " 6   date_added    8797 non-null   object\n",
      " 7   release_year  8807 non-null   int64 \n",
      " 8   rating        8803 non-null   object\n",
      " 9   duration      8804 non-null   object\n",
      " 10  listed_in     8807 non-null   object\n",
      " 11  description   8807 non-null   object\n",
      "dtypes: int64(1), object(11)\n",
      "memory usage: 825.8+ KB\n"
     ]
    }
   ],
   "source": [
    "df.info()"
   ]
  },
  {
   "cell_type": "code",
   "execution_count": 60,
   "metadata": {},
   "outputs": [
    {
     "data": {
      "text/plain": [
       "show_id            0\n",
       "type               0\n",
       "title              0\n",
       "director        2634\n",
       "cast             825\n",
       "country          831\n",
       "date_added        10\n",
       "release_year       0\n",
       "rating             4\n",
       "duration           3\n",
       "listed_in          0\n",
       "description        0\n",
       "dtype: int64"
      ]
     },
     "execution_count": 60,
     "metadata": {},
     "output_type": "execute_result"
    }
   ],
   "source": [
    "df.isna().sum()"
   ]
  },
  {
   "cell_type": "markdown",
   "metadata": {},
   "source": [
    "Cleaning the Data"
   ]
  },
  {
   "cell_type": "code",
   "execution_count": 61,
   "metadata": {},
   "outputs": [
    {
     "data": {
      "text/html": [
       "<div>\n",
       "<style scoped>\n",
       "    .dataframe tbody tr th:only-of-type {\n",
       "        vertical-align: middle;\n",
       "    }\n",
       "\n",
       "    .dataframe tbody tr th {\n",
       "        vertical-align: top;\n",
       "    }\n",
       "\n",
       "    .dataframe thead th {\n",
       "        text-align: right;\n",
       "    }\n",
       "</style>\n",
       "<table border=\"1\" class=\"dataframe\">\n",
       "  <thead>\n",
       "    <tr style=\"text-align: right;\">\n",
       "      <th></th>\n",
       "      <th>show_id</th>\n",
       "      <th>type</th>\n",
       "      <th>title</th>\n",
       "      <th>director</th>\n",
       "      <th>cast</th>\n",
       "      <th>country</th>\n",
       "      <th>date_added</th>\n",
       "      <th>release_year</th>\n",
       "      <th>rating</th>\n",
       "      <th>duration</th>\n",
       "      <th>listed_in</th>\n",
       "      <th>description</th>\n",
       "    </tr>\n",
       "  </thead>\n",
       "  <tbody>\n",
       "    <tr>\n",
       "      <th>1</th>\n",
       "      <td>s2</td>\n",
       "      <td>TV Show</td>\n",
       "      <td>Blood &amp; Water</td>\n",
       "      <td>NaN</td>\n",
       "      <td>Ama Qamata, Khosi Ngema, Gail Mabalane, Thaban...</td>\n",
       "      <td>South Africa</td>\n",
       "      <td>September 24, 2021</td>\n",
       "      <td>2021</td>\n",
       "      <td>TV-MA</td>\n",
       "      <td>2 Seasons</td>\n",
       "      <td>International TV Shows, TV Dramas, TV Mysteries</td>\n",
       "      <td>After crossing paths at a party, a Cape Town t...</td>\n",
       "    </tr>\n",
       "    <tr>\n",
       "      <th>3</th>\n",
       "      <td>s4</td>\n",
       "      <td>TV Show</td>\n",
       "      <td>Jailbirds New Orleans</td>\n",
       "      <td>NaN</td>\n",
       "      <td>NaN</td>\n",
       "      <td>NaN</td>\n",
       "      <td>September 24, 2021</td>\n",
       "      <td>2021</td>\n",
       "      <td>TV-MA</td>\n",
       "      <td>1 Season</td>\n",
       "      <td>Docuseries, Reality TV</td>\n",
       "      <td>Feuds, flirtations and toilet talk go down amo...</td>\n",
       "    </tr>\n",
       "    <tr>\n",
       "      <th>4</th>\n",
       "      <td>s5</td>\n",
       "      <td>TV Show</td>\n",
       "      <td>Kota Factory</td>\n",
       "      <td>NaN</td>\n",
       "      <td>Mayur More, Jitendra Kumar, Ranjan Raj, Alam K...</td>\n",
       "      <td>India</td>\n",
       "      <td>September 24, 2021</td>\n",
       "      <td>2021</td>\n",
       "      <td>TV-MA</td>\n",
       "      <td>2 Seasons</td>\n",
       "      <td>International TV Shows, Romantic TV Shows, TV ...</td>\n",
       "      <td>In a city of coaching centers known to train I...</td>\n",
       "    </tr>\n",
       "    <tr>\n",
       "      <th>10</th>\n",
       "      <td>s11</td>\n",
       "      <td>TV Show</td>\n",
       "      <td>Vendetta: Truth, Lies and The Mafia</td>\n",
       "      <td>NaN</td>\n",
       "      <td>NaN</td>\n",
       "      <td>NaN</td>\n",
       "      <td>September 24, 2021</td>\n",
       "      <td>2021</td>\n",
       "      <td>TV-MA</td>\n",
       "      <td>1 Season</td>\n",
       "      <td>Crime TV Shows, Docuseries, International TV S...</td>\n",
       "      <td>Sicily boasts a bold \"Anti-Mafia\" coalition. B...</td>\n",
       "    </tr>\n",
       "    <tr>\n",
       "      <th>14</th>\n",
       "      <td>s15</td>\n",
       "      <td>TV Show</td>\n",
       "      <td>Crime Stories: India Detectives</td>\n",
       "      <td>NaN</td>\n",
       "      <td>NaN</td>\n",
       "      <td>NaN</td>\n",
       "      <td>September 22, 2021</td>\n",
       "      <td>2021</td>\n",
       "      <td>TV-MA</td>\n",
       "      <td>1 Season</td>\n",
       "      <td>British TV Shows, Crime TV Shows, Docuseries</td>\n",
       "      <td>Cameras following Bengaluru police on the job ...</td>\n",
       "    </tr>\n",
       "    <tr>\n",
       "      <th>...</th>\n",
       "      <td>...</td>\n",
       "      <td>...</td>\n",
       "      <td>...</td>\n",
       "      <td>...</td>\n",
       "      <td>...</td>\n",
       "      <td>...</td>\n",
       "      <td>...</td>\n",
       "      <td>...</td>\n",
       "      <td>...</td>\n",
       "      <td>...</td>\n",
       "      <td>...</td>\n",
       "      <td>...</td>\n",
       "    </tr>\n",
       "    <tr>\n",
       "      <th>8795</th>\n",
       "      <td>s8796</td>\n",
       "      <td>TV Show</td>\n",
       "      <td>Yu-Gi-Oh! Arc-V</td>\n",
       "      <td>NaN</td>\n",
       "      <td>Mike Liscio, Emily Bauer, Billy Bob Thompson, ...</td>\n",
       "      <td>Japan, Canada</td>\n",
       "      <td>May 1, 2018</td>\n",
       "      <td>2015</td>\n",
       "      <td>TV-Y7</td>\n",
       "      <td>2 Seasons</td>\n",
       "      <td>Anime Series, Kids' TV</td>\n",
       "      <td>Now that he's discovered the Pendulum Summonin...</td>\n",
       "    </tr>\n",
       "    <tr>\n",
       "      <th>8796</th>\n",
       "      <td>s8797</td>\n",
       "      <td>TV Show</td>\n",
       "      <td>Yunus Emre</td>\n",
       "      <td>NaN</td>\n",
       "      <td>Gökhan Atalay, Payidar Tüfekçioglu, Baran Akbu...</td>\n",
       "      <td>Turkey</td>\n",
       "      <td>January 17, 2017</td>\n",
       "      <td>2016</td>\n",
       "      <td>TV-PG</td>\n",
       "      <td>2 Seasons</td>\n",
       "      <td>International TV Shows, TV Dramas</td>\n",
       "      <td>During the Mongol invasions, Yunus Emre leaves...</td>\n",
       "    </tr>\n",
       "    <tr>\n",
       "      <th>8797</th>\n",
       "      <td>s8798</td>\n",
       "      <td>TV Show</td>\n",
       "      <td>Zak Storm</td>\n",
       "      <td>NaN</td>\n",
       "      <td>Michael Johnston, Jessica Gee-George, Christin...</td>\n",
       "      <td>United States, France, South Korea, Indonesia</td>\n",
       "      <td>September 13, 2018</td>\n",
       "      <td>2016</td>\n",
       "      <td>TV-Y7</td>\n",
       "      <td>3 Seasons</td>\n",
       "      <td>Kids' TV</td>\n",
       "      <td>Teen surfer Zak Storm is mysteriously transpor...</td>\n",
       "    </tr>\n",
       "    <tr>\n",
       "      <th>8800</th>\n",
       "      <td>s8801</td>\n",
       "      <td>TV Show</td>\n",
       "      <td>Zindagi Gulzar Hai</td>\n",
       "      <td>NaN</td>\n",
       "      <td>Sanam Saeed, Fawad Khan, Ayesha Omer, Mehreen ...</td>\n",
       "      <td>Pakistan</td>\n",
       "      <td>December 15, 2016</td>\n",
       "      <td>2012</td>\n",
       "      <td>TV-PG</td>\n",
       "      <td>1 Season</td>\n",
       "      <td>International TV Shows, Romantic TV Shows, TV ...</td>\n",
       "      <td>Strong-willed, middle-class Kashaf and carefre...</td>\n",
       "    </tr>\n",
       "    <tr>\n",
       "      <th>8803</th>\n",
       "      <td>s8804</td>\n",
       "      <td>TV Show</td>\n",
       "      <td>Zombie Dumb</td>\n",
       "      <td>NaN</td>\n",
       "      <td>NaN</td>\n",
       "      <td>NaN</td>\n",
       "      <td>July 1, 2019</td>\n",
       "      <td>2018</td>\n",
       "      <td>TV-Y7</td>\n",
       "      <td>2 Seasons</td>\n",
       "      <td>Kids' TV, Korean TV Shows, TV Comedies</td>\n",
       "      <td>While living alone in a spooky town, a young g...</td>\n",
       "    </tr>\n",
       "  </tbody>\n",
       "</table>\n",
       "<p>2634 rows × 12 columns</p>\n",
       "</div>"
      ],
      "text/plain": [
       "     show_id     type                                title director  \\\n",
       "1         s2  TV Show                        Blood & Water      NaN   \n",
       "3         s4  TV Show                Jailbirds New Orleans      NaN   \n",
       "4         s5  TV Show                         Kota Factory      NaN   \n",
       "10       s11  TV Show  Vendetta: Truth, Lies and The Mafia      NaN   \n",
       "14       s15  TV Show      Crime Stories: India Detectives      NaN   \n",
       "...      ...      ...                                  ...      ...   \n",
       "8795   s8796  TV Show                      Yu-Gi-Oh! Arc-V      NaN   \n",
       "8796   s8797  TV Show                           Yunus Emre      NaN   \n",
       "8797   s8798  TV Show                            Zak Storm      NaN   \n",
       "8800   s8801  TV Show                   Zindagi Gulzar Hai      NaN   \n",
       "8803   s8804  TV Show                          Zombie Dumb      NaN   \n",
       "\n",
       "                                                   cast  \\\n",
       "1     Ama Qamata, Khosi Ngema, Gail Mabalane, Thaban...   \n",
       "3                                                   NaN   \n",
       "4     Mayur More, Jitendra Kumar, Ranjan Raj, Alam K...   \n",
       "10                                                  NaN   \n",
       "14                                                  NaN   \n",
       "...                                                 ...   \n",
       "8795  Mike Liscio, Emily Bauer, Billy Bob Thompson, ...   \n",
       "8796  Gökhan Atalay, Payidar Tüfekçioglu, Baran Akbu...   \n",
       "8797  Michael Johnston, Jessica Gee-George, Christin...   \n",
       "8800  Sanam Saeed, Fawad Khan, Ayesha Omer, Mehreen ...   \n",
       "8803                                                NaN   \n",
       "\n",
       "                                            country          date_added  \\\n",
       "1                                      South Africa  September 24, 2021   \n",
       "3                                               NaN  September 24, 2021   \n",
       "4                                             India  September 24, 2021   \n",
       "10                                              NaN  September 24, 2021   \n",
       "14                                              NaN  September 22, 2021   \n",
       "...                                             ...                 ...   \n",
       "8795                                  Japan, Canada         May 1, 2018   \n",
       "8796                                         Turkey    January 17, 2017   \n",
       "8797  United States, France, South Korea, Indonesia  September 13, 2018   \n",
       "8800                                       Pakistan   December 15, 2016   \n",
       "8803                                            NaN        July 1, 2019   \n",
       "\n",
       "      release_year rating   duration  \\\n",
       "1             2021  TV-MA  2 Seasons   \n",
       "3             2021  TV-MA   1 Season   \n",
       "4             2021  TV-MA  2 Seasons   \n",
       "10            2021  TV-MA   1 Season   \n",
       "14            2021  TV-MA   1 Season   \n",
       "...            ...    ...        ...   \n",
       "8795          2015  TV-Y7  2 Seasons   \n",
       "8796          2016  TV-PG  2 Seasons   \n",
       "8797          2016  TV-Y7  3 Seasons   \n",
       "8800          2012  TV-PG   1 Season   \n",
       "8803          2018  TV-Y7  2 Seasons   \n",
       "\n",
       "                                              listed_in  \\\n",
       "1       International TV Shows, TV Dramas, TV Mysteries   \n",
       "3                                Docuseries, Reality TV   \n",
       "4     International TV Shows, Romantic TV Shows, TV ...   \n",
       "10    Crime TV Shows, Docuseries, International TV S...   \n",
       "14         British TV Shows, Crime TV Shows, Docuseries   \n",
       "...                                                 ...   \n",
       "8795                             Anime Series, Kids' TV   \n",
       "8796                  International TV Shows, TV Dramas   \n",
       "8797                                           Kids' TV   \n",
       "8800  International TV Shows, Romantic TV Shows, TV ...   \n",
       "8803             Kids' TV, Korean TV Shows, TV Comedies   \n",
       "\n",
       "                                            description  \n",
       "1     After crossing paths at a party, a Cape Town t...  \n",
       "3     Feuds, flirtations and toilet talk go down amo...  \n",
       "4     In a city of coaching centers known to train I...  \n",
       "10    Sicily boasts a bold \"Anti-Mafia\" coalition. B...  \n",
       "14    Cameras following Bengaluru police on the job ...  \n",
       "...                                                 ...  \n",
       "8795  Now that he's discovered the Pendulum Summonin...  \n",
       "8796  During the Mongol invasions, Yunus Emre leaves...  \n",
       "8797  Teen surfer Zak Storm is mysteriously transpor...  \n",
       "8800  Strong-willed, middle-class Kashaf and carefre...  \n",
       "8803  While living alone in a spooky town, a young g...  \n",
       "\n",
       "[2634 rows x 12 columns]"
      ]
     },
     "execution_count": 61,
     "metadata": {},
     "output_type": "execute_result"
    }
   ],
   "source": [
    "df[df['director'].isna()]"
   ]
  },
  {
   "cell_type": "code",
   "execution_count": 62,
   "metadata": {},
   "outputs": [],
   "source": [
    "df['director']=df['director'].fillna('Clear')"
   ]
  },
  {
   "cell_type": "code",
   "execution_count": 63,
   "metadata": {},
   "outputs": [
    {
     "data": {
      "text/plain": [
       "show_id           0\n",
       "type              0\n",
       "title             0\n",
       "director          0\n",
       "cast            825\n",
       "country         831\n",
       "date_added       10\n",
       "release_year      0\n",
       "rating            4\n",
       "duration          3\n",
       "listed_in         0\n",
       "description       0\n",
       "dtype: int64"
      ]
     },
     "execution_count": 63,
     "metadata": {},
     "output_type": "execute_result"
    }
   ],
   "source": [
    "df.isna().sum()"
   ]
  },
  {
   "cell_type": "code",
   "execution_count": 64,
   "metadata": {},
   "outputs": [],
   "source": [
    "for a in ['cast','country','date_added','rating','duration']:\n",
    "    df[a]= df[a].fillna(df[a].mode()[0])"
   ]
  },
  {
   "cell_type": "code",
   "execution_count": 65,
   "metadata": {},
   "outputs": [
    {
     "name": "stdout",
     "output_type": "stream",
     "text": [
      "Total Rows:8807, Total Column:12\n",
      "Column Data Type:\n",
      " show_id         object\n",
      "type            object\n",
      "title           object\n",
      "director        object\n",
      "cast            object\n",
      "country         object\n",
      "date_added      object\n",
      "release_year     int64\n",
      "rating          object\n",
      "duration        object\n",
      "listed_in       object\n",
      "description     object\n",
      "dtype: object\n",
      "Missing value:\n",
      " show_id         0\n",
      "type            0\n",
      "title           0\n",
      "director        0\n",
      "cast            0\n",
      "country         0\n",
      "date_added      0\n",
      "release_year    0\n",
      "rating          0\n",
      "duration        0\n",
      "listed_in       0\n",
      "description     0\n",
      "dtype: int64\n",
      "Description for the Dataset:\n",
      "        release_year\n",
      "count   8807.000000\n",
      "mean    2014.180198\n",
      "std        8.819312\n",
      "min     1925.000000\n",
      "25%     2013.000000\n",
      "50%     2017.000000\n",
      "75%     2019.000000\n",
      "max     2021.000000\n"
     ]
    }
   ],
   "source": [
    "print(f\"Total Rows:{df.shape[0]}, Total Column:{df.shape[1]}\")\n",
    "print(\"Column Data Type:\\n\",df.dtypes)\n",
    "print(\"Missing value:\\n\",df.isna().sum())\n",
    "print(\"Description for the Dataset:\\n\",df.describe())"
   ]
  },
  {
   "cell_type": "code",
   "execution_count": 66,
   "metadata": {},
   "outputs": [
    {
     "data": {
      "text/plain": [
       "4529"
      ]
     },
     "execution_count": 66,
     "metadata": {},
     "output_type": "execute_result"
    }
   ],
   "source": [
    "df['director'].nunique()"
   ]
  },
  {
   "cell_type": "code",
   "execution_count": 67,
   "metadata": {},
   "outputs": [
    {
     "data": {
      "text/plain": [
       "array(['Movie', 'TV Show'], dtype=object)"
      ]
     },
     "execution_count": 67,
     "metadata": {},
     "output_type": "execute_result"
    }
   ],
   "source": [
    "df['type'].unique()"
   ]
  },
  {
   "cell_type": "code",
   "execution_count": 68,
   "metadata": {},
   "outputs": [],
   "source": [
    "df['date_added']=df['date_added'].str.strip()\n",
    "df['date_added']=pd.to_datetime(df['date_added'],format='%B %d, %Y')"
   ]
  },
  {
   "cell_type": "code",
   "execution_count": 69,
   "metadata": {},
   "outputs": [
    {
     "data": {
      "text/plain": [
       "show_id                 object\n",
       "type                    object\n",
       "title                   object\n",
       "director                object\n",
       "cast                    object\n",
       "country                 object\n",
       "date_added      datetime64[ns]\n",
       "release_year             int64\n",
       "rating                  object\n",
       "duration                object\n",
       "listed_in               object\n",
       "description             object\n",
       "dtype: object"
      ]
     },
     "execution_count": 69,
     "metadata": {},
     "output_type": "execute_result"
    }
   ],
   "source": [
    "df.dtypes"
   ]
  },
  {
   "cell_type": "code",
   "execution_count": 70,
   "metadata": {},
   "outputs": [],
   "source": [
    "df['date']=df['date_added'].dt.day\n",
    "df['Month']=df['date_added'].dt.month\n",
    "df['Year']=df['date_added'].dt.year"
   ]
  },
  {
   "cell_type": "code",
   "execution_count": 71,
   "metadata": {},
   "outputs": [
    {
     "data": {
      "text/plain": [
       "show_id                 object\n",
       "type                    object\n",
       "title                   object\n",
       "director                object\n",
       "cast                    object\n",
       "country                 object\n",
       "date_added      datetime64[ns]\n",
       "release_year             int64\n",
       "rating                  object\n",
       "duration                object\n",
       "listed_in               object\n",
       "description             object\n",
       "date                     int32\n",
       "Month                    int32\n",
       "Year                     int32\n",
       "dtype: object"
      ]
     },
     "execution_count": 71,
     "metadata": {},
     "output_type": "execute_result"
    }
   ],
   "source": [
    "df.dtypes"
   ]
  },
  {
   "cell_type": "code",
   "execution_count": 72,
   "metadata": {},
   "outputs": [
    {
     "data": {
      "text/html": [
       "<div>\n",
       "<style scoped>\n",
       "    .dataframe tbody tr th:only-of-type {\n",
       "        vertical-align: middle;\n",
       "    }\n",
       "\n",
       "    .dataframe tbody tr th {\n",
       "        vertical-align: top;\n",
       "    }\n",
       "\n",
       "    .dataframe thead th {\n",
       "        text-align: right;\n",
       "    }\n",
       "</style>\n",
       "<table border=\"1\" class=\"dataframe\">\n",
       "  <thead>\n",
       "    <tr style=\"text-align: right;\">\n",
       "      <th></th>\n",
       "      <th>show_id</th>\n",
       "      <th>type</th>\n",
       "      <th>title</th>\n",
       "      <th>director</th>\n",
       "      <th>cast</th>\n",
       "      <th>country</th>\n",
       "      <th>date_added</th>\n",
       "      <th>release_year</th>\n",
       "      <th>rating</th>\n",
       "      <th>duration</th>\n",
       "      <th>listed_in</th>\n",
       "      <th>description</th>\n",
       "      <th>date</th>\n",
       "      <th>Month</th>\n",
       "      <th>Year</th>\n",
       "    </tr>\n",
       "  </thead>\n",
       "  <tbody>\n",
       "    <tr>\n",
       "      <th>0</th>\n",
       "      <td>s1</td>\n",
       "      <td>Movie</td>\n",
       "      <td>Dick Johnson Is Dead</td>\n",
       "      <td>Kirsten Johnson</td>\n",
       "      <td>David Attenborough</td>\n",
       "      <td>United States</td>\n",
       "      <td>2021-09-25</td>\n",
       "      <td>2020</td>\n",
       "      <td>PG-13</td>\n",
       "      <td>90 min</td>\n",
       "      <td>Documentaries</td>\n",
       "      <td>As her father nears the end of his life, filmm...</td>\n",
       "      <td>25</td>\n",
       "      <td>9</td>\n",
       "      <td>2021</td>\n",
       "    </tr>\n",
       "    <tr>\n",
       "      <th>1</th>\n",
       "      <td>s2</td>\n",
       "      <td>TV Show</td>\n",
       "      <td>Blood &amp; Water</td>\n",
       "      <td>Clear</td>\n",
       "      <td>Ama Qamata, Khosi Ngema, Gail Mabalane, Thaban...</td>\n",
       "      <td>South Africa</td>\n",
       "      <td>2021-09-24</td>\n",
       "      <td>2021</td>\n",
       "      <td>TV-MA</td>\n",
       "      <td>2 Seasons</td>\n",
       "      <td>International TV Shows, TV Dramas, TV Mysteries</td>\n",
       "      <td>After crossing paths at a party, a Cape Town t...</td>\n",
       "      <td>24</td>\n",
       "      <td>9</td>\n",
       "      <td>2021</td>\n",
       "    </tr>\n",
       "  </tbody>\n",
       "</table>\n",
       "</div>"
      ],
      "text/plain": [
       "  show_id     type                 title         director  \\\n",
       "0      s1    Movie  Dick Johnson Is Dead  Kirsten Johnson   \n",
       "1      s2  TV Show         Blood & Water            Clear   \n",
       "\n",
       "                                                cast        country  \\\n",
       "0                                 David Attenborough  United States   \n",
       "1  Ama Qamata, Khosi Ngema, Gail Mabalane, Thaban...   South Africa   \n",
       "\n",
       "  date_added  release_year rating   duration  \\\n",
       "0 2021-09-25          2020  PG-13     90 min   \n",
       "1 2021-09-24          2021  TV-MA  2 Seasons   \n",
       "\n",
       "                                         listed_in  \\\n",
       "0                                    Documentaries   \n",
       "1  International TV Shows, TV Dramas, TV Mysteries   \n",
       "\n",
       "                                         description  date  Month  Year  \n",
       "0  As her father nears the end of his life, filmm...    25      9  2021  \n",
       "1  After crossing paths at a party, a Cape Town t...    24      9  2021  "
      ]
     },
     "execution_count": 72,
     "metadata": {},
     "output_type": "execute_result"
    }
   ],
   "source": [
    "df.head(2)"
   ]
  },
  {
   "cell_type": "code",
   "execution_count": 73,
   "metadata": {},
   "outputs": [
    {
     "name": "stdout",
     "output_type": "stream",
     "text": [
      "Type distribution:\n",
      " type\n",
      "Movie      6131\n",
      "TV Show    2676\n",
      "Name: count, dtype: int64\n"
     ]
    }
   ],
   "source": [
    "type_counts=df['type'].value_counts()\n",
    "print(\"Type distribution:\\n\",type_counts)"
   ]
  },
  {
   "cell_type": "markdown",
   "metadata": {},
   "source": [
    "Top Ten Countries"
   ]
  },
  {
   "cell_type": "code",
   "execution_count": 74,
   "metadata": {},
   "outputs": [
    {
     "name": "stdout",
     "output_type": "stream",
     "text": [
      "top 10 countries by number of title:\n",
      " country\n",
      "United States     3649\n",
      "India              972\n",
      "United Kingdom     419\n",
      "Japan              245\n",
      "South Korea        199\n",
      "Canada             181\n",
      "Spain              145\n",
      "France             124\n",
      "Mexico             110\n",
      "Egypt              106\n",
      "Name: count, dtype: int64\n"
     ]
    }
   ],
   "source": [
    "top_countries= df['country'].value_counts().head(10)\n",
    "print(\"top 10 countries by number of title:\\n\",top_countries)"
   ]
  },
  {
   "cell_type": "markdown",
   "metadata": {},
   "source": [
    "Rating Counts "
   ]
  },
  {
   "cell_type": "code",
   "execution_count": 75,
   "metadata": {},
   "outputs": [
    {
     "name": "stdout",
     "output_type": "stream",
     "text": [
      "Rating distribution:\n",
      " rating\n",
      "TV-MA       3211\n",
      "TV-14       2160\n",
      "TV-PG        863\n",
      "R            799\n",
      "PG-13        490\n",
      "TV-Y7        334\n",
      "TV-Y         307\n",
      "PG           287\n",
      "TV-G         220\n",
      "NR            80\n",
      "G             41\n",
      "TV-Y7-FV       6\n",
      "NC-17          3\n",
      "UR             3\n",
      "74 min         1\n",
      "84 min         1\n",
      "66 min         1\n",
      "Name: count, dtype: int64\n"
     ]
    }
   ],
   "source": [
    "rating_counts=df['rating'].value_counts()\n",
    "print(\"Rating distribution:\\n\",rating_counts)"
   ]
  },
  {
   "cell_type": "markdown",
   "metadata": {},
   "source": [
    "Year Wise Content Addition"
   ]
  },
  {
   "cell_type": "code",
   "execution_count": 76,
   "metadata": {},
   "outputs": [
    {
     "name": "stdout",
     "output_type": "stream",
     "text": [
      "Content added per year:\n",
      " year_added\n",
      "2008       2\n",
      "2009       2\n",
      "2010       1\n",
      "2011      13\n",
      "2012       3\n",
      "2013      11\n",
      "2014      24\n",
      "2015      82\n",
      "2016     429\n",
      "2017    1188\n",
      "2018    1649\n",
      "2019    2016\n",
      "2020    1889\n",
      "2021    1498\n",
      "Name: count, dtype: int64\n"
     ]
    }
   ],
   "source": [
    "df['year_added']= df['date_added'].dt.year\n",
    "content_per_year=df['year_added'].value_counts().sort_index()\n",
    "print(\"Content added per year:\\n\", content_per_year)"
   ]
  },
  {
   "cell_type": "markdown",
   "metadata": {},
   "source": [
    "Top 10 Directors"
   ]
  },
  {
   "cell_type": "code",
   "execution_count": 77,
   "metadata": {},
   "outputs": [
    {
     "name": "stdout",
     "output_type": "stream",
     "text": [
      "Top 10 Directors:\n",
      " director\n",
      "Rajiv Chilaka             19\n",
      "Raúl Campos, Jan Suter    18\n",
      "Suhas Kadav               16\n",
      "Marcus Raboy              16\n",
      "Jay Karas                 14\n",
      "Cathy Garcia-Molina       13\n",
      "Martin Scorsese           12\n",
      "Youssef Chahine           12\n",
      "Jay Chapman               12\n",
      "Steven Spielberg          11\n",
      "Name: count, dtype: int64\n"
     ]
    }
   ],
   "source": [
    "top_directors=df[df['director']!='Clear']['director'].value_counts().head(10)\n",
    "print(\"Top 10 Directors:\\n\", top_directors)"
   ]
  },
  {
   "cell_type": "markdown",
   "metadata": {},
   "source": [
    "Top Actors Employeed in the show"
   ]
  },
  {
   "cell_type": "code",
   "execution_count": 78,
   "metadata": {},
   "outputs": [
    {
     "name": "stdout",
     "output_type": "stream",
     "text": [
      "Top 10 Cast Members:\n",
      " cast\n",
      "David Attenborough    845\n",
      "Anupam Kher            43\n",
      "Shah Rukh Khan         35\n",
      "Julie Tejwani          33\n",
      "Takahiro Sakurai       32\n",
      "Naseeruddin Shah       32\n",
      "Rupa Bhimani           31\n",
      "Akshay Kumar           30\n",
      "Om Puri                30\n",
      "Yuki Kaji              29\n",
      "Name: count, dtype: int64\n"
     ]
    }
   ],
   "source": [
    "all_cast=df[df['cast']!='Clear']['cast'].str.split(', ').explode()\n",
    "top_cast=all_cast.value_counts().head(10)\n",
    "print(\"Top 10 Cast Members:\\n\", top_cast)"
   ]
  },
  {
   "cell_type": "code",
   "execution_count": 79,
   "metadata": {},
   "outputs": [],
   "source": [
    "import warnings\n",
    "warnings.simplefilter(\"ignore\")"
   ]
  },
  {
   "cell_type": "markdown",
   "metadata": {},
   "source": [
    "Average Duration For the Movies"
   ]
  },
  {
   "cell_type": "code",
   "execution_count": 80,
   "metadata": {},
   "outputs": [
    {
     "name": "stdout",
     "output_type": "stream",
     "text": [
      "Average Movie Duration:99.53minutes\n"
     ]
    }
   ],
   "source": [
    "df_movies=df[df['type']=='Movie']\n",
    "df_movies['duration_mins']=df_movies['duration'].str.extract('(\\d+)').astype(float)\n",
    "average_duration=df_movies['duration_mins'].mean()\n",
    "print(f\"Average Movie Duration:{average_duration:.2f}minutes\")"
   ]
  },
  {
   "cell_type": "markdown",
   "metadata": {},
   "source": [
    "TV Shows By Number of Season"
   ]
  },
  {
   "cell_type": "code",
   "execution_count": 81,
   "metadata": {},
   "outputs": [
    {
     "name": "stdout",
     "output_type": "stream",
     "text": [
      "TV Shows by number of seasons:\n",
      " seasons\n",
      "1     1793\n",
      "2      425\n",
      "3      199\n",
      "4       95\n",
      "5       65\n",
      "6       33\n",
      "7       23\n",
      "8       17\n",
      "9        9\n",
      "10       7\n",
      "11       2\n",
      "12       2\n",
      "13       3\n",
      "15       2\n",
      "17       1\n",
      "Name: count, dtype: int64\n"
     ]
    }
   ],
   "source": [
    "df_shows=df[df['type']=='TV Show']\n",
    "df_shows['seasons']=df_shows['duration'].str.extract('(\\d+)').astype(int)\n",
    "season_counts=df_shows['seasons'].value_counts().sort_index()\n",
    "print(f\"TV Shows by number of seasons:\\n\",season_counts)"
   ]
  },
  {
   "cell_type": "markdown",
   "metadata": {},
   "source": [
    "Number Of Unique Value In Dataset"
   ]
  },
  {
   "cell_type": "code",
   "execution_count": 82,
   "metadata": {},
   "outputs": [
    {
     "name": "stdout",
     "output_type": "stream",
     "text": [
      "Unique value per column:\n",
      " show_id         8807\n",
      "title           8807\n",
      "description     8775\n",
      "cast            7692\n",
      "director        4529\n",
      "date_added      1714\n",
      "country          748\n",
      "listed_in        514\n",
      "duration         220\n",
      "release_year      74\n",
      "date              31\n",
      "rating            17\n",
      "year_added        14\n",
      "Year              14\n",
      "Month             12\n",
      "type               2\n",
      "dtype: int64\n"
     ]
    }
   ],
   "source": [
    "unique_summary=df.nunique().sort_values(ascending=False)\n",
    "print(\"Unique value per column:\\n\",unique_summary)"
   ]
  },
  {
   "cell_type": "code",
   "execution_count": 83,
   "metadata": {},
   "outputs": [
    {
     "name": "stdout",
     "output_type": "stream",
     "text": [
      "Top 10 content producing country:\n",
      " country\n",
      "United States     4520\n",
      "India             1046\n",
      "United Kingdom     804\n",
      "Canada             445\n",
      "France             393\n",
      "Japan              318\n",
      "Spain              232\n",
      "South Korea        231\n",
      "Germany            226\n",
      "Mexico             169\n",
      "Name: count, dtype: int64\n"
     ]
    }
   ],
   "source": [
    "language_proxy =df['country'].str.split(', ').explode().value_counts().head(10)\n",
    "print(\"Top 10 content producing country:\\n\",language_proxy)"
   ]
  },
  {
   "cell_type": "code",
   "execution_count": 84,
   "metadata": {},
   "outputs": [
    {
     "name": "stdout",
     "output_type": "stream",
     "text": [
      "average duration by rating:\n",
      " rating\n",
      "NC-17       125.000000\n",
      "TV-14       110.290820\n",
      "PG-13       108.330612\n",
      "R           106.720201\n",
      "UR          106.333333\n",
      "PG           98.282230\n",
      "TV-MA        95.870640\n",
      "TV-PG        94.851852\n",
      "NR           94.533333\n",
      "G            90.268293\n",
      "TV-G         79.666667\n",
      "TV-Y7-FV     68.400000\n",
      "TV-Y7        66.287770\n",
      "TV-Y         48.114504\n",
      "66 min        1.000000\n",
      "84 min        1.000000\n",
      "74 min        1.000000\n",
      "Name: duration_mins, dtype: float64\n"
     ]
    }
   ],
   "source": [
    "df_movies = df[df['type']=='Movie'].copy()\n",
    "df_movies['duration_mins']=pd.to_numeric(df_movies['duration'].str.extract('(\\d+)')[0])\n",
    "avg_dur_rating=df_movies.groupby('rating')['duration_mins'].mean().sort_values(ascending=False)\n",
    "print(\"average duration by rating:\\n\",avg_dur_rating)"
   ]
  },
  {
   "cell_type": "markdown",
   "metadata": {},
   "source": [
    "TV Shows season distribution     "
   ]
  },
  {
   "cell_type": "code",
   "execution_count": 85,
   "metadata": {},
   "outputs": [
    {
     "name": "stdout",
     "output_type": "stream",
     "text": [
      "TV Shows season summary:\n",
      " count    2676.000000\n",
      "mean        1.764948\n",
      "std         1.582752\n",
      "min         1.000000\n",
      "25%         1.000000\n",
      "50%         1.000000\n",
      "75%         2.000000\n",
      "max        17.000000\n",
      "Name: seasons, dtype: float64\n"
     ]
    }
   ],
   "source": [
    "df_shows=df[df['type']=='TV Show'].copy()\n",
    "df_shows['seasons']=pd.to_numeric(df_shows['duration'].str.extract('(\\d+)')[0])\n",
    "seasons_summary=df_shows['seasons'].describe()\n",
    "print(\"TV Shows season summary:\\n\",seasons_summary)"
   ]
  },
  {
   "cell_type": "markdown",
   "metadata": {},
   "source": [
    "Content added overtime  "
   ]
  },
  {
   "cell_type": "code",
   "execution_count": 86,
   "metadata": {},
   "outputs": [
    {
     "name": "stdout",
     "output_type": "stream",
     "text": [
      "Title added per year:\n",
      " year_added\n",
      "2008       2\n",
      "2009       2\n",
      "2010       1\n",
      "2011      13\n",
      "2012       3\n",
      "2013      11\n",
      "2014      24\n",
      "2015      82\n",
      "2016     429\n",
      "2017    1188\n",
      "2018    1649\n",
      "2019    2016\n",
      "2020    1889\n",
      "2021    1498\n",
      "dtype: int64\n",
      "\n",
      " Average monthly additions across all years:\n",
      " month_added\n",
      "1     53.43\n",
      "2     40.21\n",
      "3     53.00\n",
      "4     54.57\n",
      "5     45.14\n",
      "6     52.00\n",
      "7     59.07\n",
      "8     53.93\n",
      "9     55.00\n",
      "10    54.29\n",
      "11    50.36\n",
      "12    58.07\n",
      "dtype: float64\n"
     ]
    }
   ],
   "source": [
    "df['year_added']=df['date_added'].dt.year\n",
    "df['month_added']=df['date_added'].dt.month\n",
    "\n",
    "yearly_additions=df.groupby('year_added').size()\n",
    "monthly_avg=df.groupby('month_added').size().div(df['year_added'].nunique()).round(2)\n",
    "\n",
    "print(\"Title added per year:\\n\",yearly_additions)\n",
    "print(\"\\n Average monthly additions across all years:\\n\",monthly_avg)"
   ]
  },
  {
   "cell_type": "markdown",
   "metadata": {},
   "source": [
    "the ratio of the movies to show for each year"
   ]
  },
  {
   "cell_type": "code",
   "execution_count": 87,
   "metadata": {},
   "outputs": [
    {
     "name": "stdout",
     "output_type": "stream",
     "text": [
      "Movie Vs TV Shows Ratio per year:\n",
      " type         Movie  TV Show  Movie_to_TV_Ratio\n",
      "year_added                                    \n",
      "2008           1.0      1.0               1.00\n",
      "2009           2.0      0.0                inf\n",
      "2010           1.0      0.0                inf\n",
      "2011          13.0      0.0                inf\n",
      "2012           3.0      0.0                inf\n",
      "2013           6.0      5.0               1.20\n",
      "2014          19.0      5.0               3.80\n",
      "2015          56.0     26.0               2.15\n",
      "2016         253.0    176.0               1.44\n",
      "2017         839.0    349.0               2.40\n",
      "2018        1237.0    412.0               3.00\n",
      "2019        1424.0    592.0               2.41\n",
      "2020        1284.0    605.0               2.12\n",
      "2021         993.0    505.0               1.97\n"
     ]
    }
   ],
   "source": [
    "type_ratio_per_year= df.pivot_table(index='year_added', columns='type',values='title',aggfunc='count').fillna(0)\n",
    "type_ratio_per_year['Movie_to_TV_Ratio']=(type_ratio_per_year['Movie']/type_ratio_per_year['TV Show']).round(2)\n",
    "print(\"Movie Vs TV Shows Ratio per year:\\n\", type_ratio_per_year[['Movie', 'TV Show','Movie_to_TV_Ratio']])"
   ]
  },
  {
   "cell_type": "markdown",
   "metadata": {},
   "source": [
    "Line chart of the title per year"
   ]
  },
  {
   "cell_type": "code",
   "execution_count": 88,
   "metadata": {},
   "outputs": [
    {
     "data": {
      "image/png": "[encoded data removed]",
      "text/plain": [
       "<Figure size 900x500 with 1 Axes>"
      ]
     },
     "metadata": {},
     "output_type": "display_data"
    }
   ],
   "source": [
    "year_added=df['year_added'].value_counts().sort_index()\n",
    "plt.figure(figsize=(9,5))\n",
    "plt.plot(year_added.index,year_added.values,marker='o')\n",
    "plt.title('Year Wise Addition')\n",
    "plt.xlabel('Year')\n",
    "plt.ylabel('Count')\n",
    "plt.show()"
   ]
  },
  {
   "cell_type": "code",
   "execution_count": 89,
   "metadata": {},
   "outputs": [
    {
     "data": {
      "text/plain": [
       "0       United States\n",
       "1        South Africa\n",
       "2       United States\n",
       "3       United States\n",
       "4               India\n",
       "            ...      \n",
       "8802    United States\n",
       "8803    United States\n",
       "8804    United States\n",
       "8805    United States\n",
       "8806            India\n",
       "Name: country, Length: 10845, dtype: object"
      ]
     },
     "execution_count": 89,
     "metadata": {},
     "output_type": "execute_result"
    }
   ],
   "source": [
    "Languages=df['country'].str.split(', ').explode ()\n",
    "Languages"
   ]
  },
  {
   "cell_type": "markdown",
   "metadata": {},
   "source": [
    "Bar Chart for the Movies vs TV show count"
   ]
  },
  {
   "cell_type": "code",
   "execution_count": 90,
   "metadata": {},
   "outputs": [
    {
     "data": {
      "image/png": "[encoded data removed]",
      "text/plain": [
       "<Figure size 600x400 with 1 Axes>"
      ]
     },
     "metadata": {},
     "output_type": "display_data"
    }
   ],
   "source": [
    "type_counts=df['type'].value_counts()\n",
    "plt.figure(figsize=(6,4))\n",
    "type_counts.plot(kind='bar',color=['red','orange'])\n",
    "plt.title('Content Type Distribution')\n",
    "plt.xlabel('Type')\n",
    "plt.ylabel('Count')\n",
    "plt.xticks(rotation=0)\n",
    "plt.show()"
   ]
  },
  {
   "cell_type": "markdown",
   "metadata": {},
   "source": [
    "top ten countries by content frequencies"
   ]
  },
  {
   "cell_type": "code",
   "execution_count": 91,
   "metadata": {},
   "outputs": [
    {
     "data": {
      "image/png": "[encoded data removed]",
      "text/plain": [
       "<Figure size 640x480 with 1 Axes>"
      ]
     },
     "metadata": {},
     "output_type": "display_data"
    }
   ],
   "source": [
    "top_countries=df['country'].str.split(', ').explode().value_counts().head(10)\n",
    "\n",
    "plt.Figure(figsize=(10,6))\n",
    "top_countries.plot(kind='bar',color='Purple')\n",
    "plt.title('Top Ten Producing Countries')\n",
    "plt.xlabel('Country')\n",
    "plt.ylabel('Number of Title')\n",
    "plt.xticks(rotation=90)\n",
    "\n",
    "plt.show()"
   ]
  },
  {
   "cell_type": "markdown",
   "metadata": {},
   "source": [
    "The content ratings distributions (limiting to top 6)"
   ]
  },
  {
   "cell_type": "code",
   "execution_count": 92,
   "metadata": {},
   "outputs": [
    {
     "data": {
      "image/png": "[encoded data removed]",
      "text/plain": [
       "<Figure size 400x500 with 1 Axes>"
      ]
     },
     "metadata": {},
     "output_type": "display_data"
    }
   ],
   "source": [
    "rating_dist=df['rating'].value_counts().head(6)\n",
    "\n",
    "plt.figure(figsize=(4,5))\n",
    "colors=cm.Paired(range(len(rating_dist)))\n",
    "plt.pie(rating_dist,labels=rating_dist.index, autopct='%1.1f%%',startangle=140,colors=colors)\n",
    "plt.title('Content Rating Distribution')\n",
    "plt.tight_layout()\n",
    "plt.show()"
   ]
  },
  {
   "cell_type": "markdown",
   "metadata": {},
   "source": [
    "Histogram for the movies duration"
   ]
  },
  {
   "cell_type": "code",
   "execution_count": 93,
   "metadata": {},
   "outputs": [
    {
     "data": {
      "image/png": "[encoded data removed]",
      "text/plain": [
       "<Figure size 1000x500 with 1 Axes>"
      ]
     },
     "metadata": {},
     "output_type": "display_data"
    }
   ],
   "source": [
    "df_movies=df[df['type']=='Movie'].copy()\n",
    "df_movies['duration_mins']=pd.to_numeric(df_movies['duration'].str.extract('(\\d+)')[0])\n",
    "\n",
    "plt.figure(figsize=(10,5))\n",
    "plt.hist(df_movies['duration_mins'].dropna(),bins=30,color='teal', edgecolor='black')\n",
    "plt.title('Distribution of Movie Duration')\n",
    "plt.xlabel('Duration Minutes')\n",
    "plt.ylabel('Number Of Movies')\n",
    "plt.tight_layout()\n",
    "plt.show()"
   ]
  },
  {
   "cell_type": "markdown",
   "metadata": {},
   "source": [
    "Bar chart for the top 10 most frequent genres"
   ]
  },
  {
   "cell_type": "code",
   "execution_count": 94,
   "metadata": {},
   "outputs": [
    {
     "data": {
      "image/png": "[encoded data removed]",
      "text/plain": [
       "<Figure size 640x480 with 1 Axes>"
      ]
     },
     "metadata": {},
     "output_type": "display_data"
    }
   ],
   "source": [
    "genre_series=df['listed_in'].explode().str.strip()\n",
    "top_genre=genre_series.value_counts().head(10)\n",
    "\n",
    "plt.Figure(figsize=(10,6))\n",
    "top_genre.plot(kind='barh',color='red',edgecolor='black')\n",
    "plt.title('Top Ten Genre on Netflix')\n",
    "plt.xlabel('Number of Title')\n",
    "plt.gca().invert_yaxis()\n",
    "plt.tight_layout()\n",
    "plt.show()"
   ]
  },
  {
   "cell_type": "markdown",
   "metadata": {},
   "source": [
    "TV shows by number of seasons"
   ]
  },
  {
   "cell_type": "code",
   "execution_count": 95,
   "metadata": {},
   "outputs": [
    {
     "data": {
      "image/png": "[encoded data removed]",
      "text/plain": [
       "<Figure size 640x480 with 1 Axes>"
      ]
     },
     "metadata": {},
     "output_type": "display_data"
    }
   ],
   "source": [
    "df_shows=df[df['type']=='TV Show'].copy()\n",
    "df_shows['seasons']=pd.to_numeric(df_shows['duration'].str.extract('(\\d+)')[0])\n",
    "season_counts=df_shows['seasons'].value_counts().sort_index().head(10)\n",
    "\n",
    "plt.Figure(figsize=(8,6))\n",
    "season_counts.plot(kind='bar',color='salmon')\n",
    "plt.title('TV Shows by Number of Seasons (Top 10)')\n",
    "plt.xlabel('Seasons')\n",
    "plt.ylabel('Number of shows')\n",
    "plt.xticks(rotation=0)\n",
    "plt.tight_layout()\n",
    "plt.show()\n"
   ]
  },
  {
   "cell_type": "markdown",
   "metadata": {},
   "source": [
    "Key Insights and Summary:\n",
    "- Most Netflix content is Movies, not TV shows.\n",
    "- The peak year for adding content was around 2019-2020.\n",
    "- Popular genres include Dramas, International Movies and Comedies.\n",
    "- The Unites States dominates content producion, followed by India. \n",
    "- Most content is targeted towards TV-MA and TV-14 age groups."
   ]
  }
 ],
 "metadata": {
  "kernelspec": {
   "display_name": "Python 3",
   "language": "python",
   "name": "python3"
  },
  "language_info": {
   "codemirror_mode": {
    "name": "ipython",
    "version": 3
   },
   "file_extension": ".py",
   "mimetype": "text/x-python",
   "name": "python",
   "nbconvert_exporter": "python",
   "pygments_lexer": "ipython3",
   "version": "3.12.6"
  }
 },
 "nbformat": 4,
 "nbformat_minor": 2
}
